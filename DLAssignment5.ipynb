{
  "cells": [
    {
      "cell_type": "markdown",
      "source": [
        "# Implement the Continuous Bag of Words (CBOW) Model. Stages can be:\n",
        "## **a. Data preparation**\n",
        "## **b. Generate training data**\n",
        "## **c. Train model**\n",
        "## **d. Output**"
      ],
      "metadata": {
        "id": "P0rXx8BFuAYC"
      }
    },
    {
      "cell_type": "markdown",
      "source": [
        "## IMPORTING LIBRARIES"
      ],
      "metadata": {
        "id": "w9gR8MiyuPLB"
      }
    },
    {
      "cell_type": "code",
      "execution_count": 1,
      "metadata": {
        "id": "2QcnrhqAraaZ"
      },
      "outputs": [],
      "source": [
        "import matplotlib.pyplot as plt\n",
        "import seaborn as sns\n",
        "import matplotlib as mpl\n",
        "import matplotlib.pylab as pylab\n",
        "import numpy as np\n",
        "%matplotlib inline"
      ]
    },
    {
      "cell_type": "markdown",
      "source": [
        "## **a. Data preparation**"
      ],
      "metadata": {
        "id": "hKq9lub2uVQQ"
      }
    },
    {
      "cell_type": "code",
      "execution_count": 2,
      "metadata": {
        "id": "XWDT0yg5raaa"
      },
      "outputs": [],
      "source": [
        "import re"
      ]
    },
    {
      "cell_type": "code",
      "execution_count": 3,
      "metadata": {
        "id": "BfbZbUR9raab"
      },
      "outputs": [],
      "source": [
        "with open('5.text.txt', 'r') as file:\n",
        "    sentences = file.read()"
      ]
    },
    {
      "cell_type": "code",
      "execution_count": 4,
      "metadata": {
        "id": "Oqqs3o-zraac"
      },
      "outputs": [],
      "source": [
        "sentences = re.sub('[^A-Za-z0-9]+', ' ', sentences)\n",
        "\n",
        "sentences = re.sub(r'(?:^| )\\w(?:$| )', ' ', sentences).strip()\n",
        "\n",
        "sentences = sentences.lower()"
      ]
    },
    {
      "cell_type": "code",
      "source": [
        "sentences"
      ],
      "metadata": {
        "colab": {
          "base_uri": "https://localhost:8080/",
          "height": 90
        },
        "id": "he2v2sViNIob",
        "outputId": "8fe77379-294c-4d0c-c106-ed41e90e452c"
      },
      "execution_count": 5,
      "outputs": [
        {
          "output_type": "execute_result",
          "data": {
            "text/plain": [
              "'we are about to study the idea of computational process computational processes are abstract beings that inhabit computers as they evolve processes manipulate other abstract things called data the evolution of process is directed by pattern of rules called program people create programs to direct processes in effect we conjure the spirits of the computer with our spells'"
            ],
            "application/vnd.google.colaboratory.intrinsic+json": {
              "type": "string"
            }
          },
          "metadata": {},
          "execution_count": 5
        }
      ]
    },
    {
      "cell_type": "code",
      "execution_count": 6,
      "metadata": {
        "id": "Q_IrGFwIraac"
      },
      "outputs": [],
      "source": [
        "words = sentences.split()\n",
        "vocab = set(words)"
      ]
    },
    {
      "cell_type": "code",
      "source": [
        "words"
      ],
      "metadata": {
        "colab": {
          "base_uri": "https://localhost:8080/"
        },
        "id": "XTvX4O0QNF2y",
        "outputId": "4b279513-4890-4bf5-e471-b5eea16da772"
      },
      "execution_count": 7,
      "outputs": [
        {
          "output_type": "execute_result",
          "data": {
            "text/plain": [
              "['we',\n",
              " 'are',\n",
              " 'about',\n",
              " 'to',\n",
              " 'study',\n",
              " 'the',\n",
              " 'idea',\n",
              " 'of',\n",
              " 'computational',\n",
              " 'process',\n",
              " 'computational',\n",
              " 'processes',\n",
              " 'are',\n",
              " 'abstract',\n",
              " 'beings',\n",
              " 'that',\n",
              " 'inhabit',\n",
              " 'computers',\n",
              " 'as',\n",
              " 'they',\n",
              " 'evolve',\n",
              " 'processes',\n",
              " 'manipulate',\n",
              " 'other',\n",
              " 'abstract',\n",
              " 'things',\n",
              " 'called',\n",
              " 'data',\n",
              " 'the',\n",
              " 'evolution',\n",
              " 'of',\n",
              " 'process',\n",
              " 'is',\n",
              " 'directed',\n",
              " 'by',\n",
              " 'pattern',\n",
              " 'of',\n",
              " 'rules',\n",
              " 'called',\n",
              " 'program',\n",
              " 'people',\n",
              " 'create',\n",
              " 'programs',\n",
              " 'to',\n",
              " 'direct',\n",
              " 'processes',\n",
              " 'in',\n",
              " 'effect',\n",
              " 'we',\n",
              " 'conjure',\n",
              " 'the',\n",
              " 'spirits',\n",
              " 'of',\n",
              " 'the',\n",
              " 'computer',\n",
              " 'with',\n",
              " 'our',\n",
              " 'spells']"
            ]
          },
          "metadata": {},
          "execution_count": 7
        }
      ]
    },
    {
      "cell_type": "code",
      "source": [
        "vocab"
      ],
      "metadata": {
        "colab": {
          "base_uri": "https://localhost:8080/"
        },
        "id": "2BiGmLtd_L45",
        "outputId": "2d86083b-9387-4d73-cd93-487ff7496fa7"
      },
      "execution_count": 8,
      "outputs": [
        {
          "output_type": "execute_result",
          "data": {
            "text/plain": [
              "{'about',\n",
              " 'abstract',\n",
              " 'are',\n",
              " 'as',\n",
              " 'beings',\n",
              " 'by',\n",
              " 'called',\n",
              " 'computational',\n",
              " 'computer',\n",
              " 'computers',\n",
              " 'conjure',\n",
              " 'create',\n",
              " 'data',\n",
              " 'direct',\n",
              " 'directed',\n",
              " 'effect',\n",
              " 'evolution',\n",
              " 'evolve',\n",
              " 'idea',\n",
              " 'in',\n",
              " 'inhabit',\n",
              " 'is',\n",
              " 'manipulate',\n",
              " 'of',\n",
              " 'other',\n",
              " 'our',\n",
              " 'pattern',\n",
              " 'people',\n",
              " 'process',\n",
              " 'processes',\n",
              " 'program',\n",
              " 'programs',\n",
              " 'rules',\n",
              " 'spells',\n",
              " 'spirits',\n",
              " 'study',\n",
              " 'that',\n",
              " 'the',\n",
              " 'they',\n",
              " 'things',\n",
              " 'to',\n",
              " 'we',\n",
              " 'with'}"
            ]
          },
          "metadata": {},
          "execution_count": 8
        }
      ]
    },
    {
      "cell_type": "code",
      "execution_count": 9,
      "metadata": {
        "id": "hXjGzUteraac"
      },
      "outputs": [],
      "source": [
        "vocab_size = len(vocab)\n",
        "embed_dim = 10\n",
        "context_size = 2"
      ]
    },
    {
      "cell_type": "code",
      "source": [
        "vocab_size"
      ],
      "metadata": {
        "colab": {
          "base_uri": "https://localhost:8080/"
        },
        "id": "7B6A1F7m_Qix",
        "outputId": "299ba9b7-90aa-40c3-f81c-0c1359779eea"
      },
      "execution_count": 10,
      "outputs": [
        {
          "output_type": "execute_result",
          "data": {
            "text/plain": [
              "43"
            ]
          },
          "metadata": {},
          "execution_count": 10
        }
      ]
    },
    {
      "cell_type": "code",
      "execution_count": 11,
      "metadata": {
        "id": "fiNK3Y_7raad"
      },
      "outputs": [],
      "source": [
        "word_to_ix = {word: i for i, word in enumerate(vocab)}\n",
        "ix_to_word = {i: word for i, word in enumerate(vocab)}"
      ]
    },
    {
      "cell_type": "code",
      "execution_count": 12,
      "metadata": {
        "colab": {
          "base_uri": "https://localhost:8080/"
        },
        "id": "3oeqTByHraad",
        "outputId": "56357264-0fb1-42dd-b022-8e12d896e138"
      },
      "outputs": [
        {
          "output_type": "stream",
          "name": "stdout",
          "text": [
            "[(['we', 'are', 'to', 'study'], 'about'), (['are', 'about', 'study', 'the'], 'to'), (['about', 'to', 'the', 'idea'], 'study'), (['to', 'study', 'idea', 'of'], 'the'), (['study', 'the', 'of', 'computational'], 'idea')]\n"
          ]
        }
      ],
      "source": [
        "data = []\n",
        "for i in range(2, len(words) - 2):\n",
        "    context = [words[i - 2], words[i - 1], words[i + 1], words[i + 2]]\n",
        "    target = words[i]\n",
        "    data.append((context, target))\n",
        "print(data[:5])"
      ]
    },
    {
      "cell_type": "markdown",
      "metadata": {
        "id": "jZXNhJeRraae"
      },
      "source": [
        "## **b. Generate training data**"
      ]
    },
    {
      "cell_type": "code",
      "execution_count": 13,
      "metadata": {
        "id": "YWS4HF8eraae"
      },
      "outputs": [],
      "source": [
        "embeddings =  np.random.random_sample((vocab_size, embed_dim))"
      ]
    },
    {
      "cell_type": "code",
      "source": [
        "embeddings"
      ],
      "metadata": {
        "colab": {
          "base_uri": "https://localhost:8080/"
        },
        "id": "AjTeRe-Z_WNN",
        "outputId": "714b8add-c8c9-427c-fbb7-d1a6964be80f"
      },
      "execution_count": 14,
      "outputs": [
        {
          "output_type": "execute_result",
          "data": {
            "text/plain": [
              "array([[0.46940065, 0.92834285, 0.94621083, 0.64853163, 0.89006479,\n",
              "        0.84232167, 0.88385557, 0.49508733, 0.12712791, 0.0966887 ],\n",
              "       [0.22187568, 0.61809962, 0.76574319, 0.72448672, 0.74966793,\n",
              "        0.2562701 , 0.29560318, 0.37599102, 0.42794417, 0.86737682],\n",
              "       [0.07380094, 0.34615693, 0.52055442, 0.79168075, 0.25637446,\n",
              "        0.12146005, 0.82399761, 0.19611441, 0.71737713, 0.41711509],\n",
              "       [0.66243608, 0.01008031, 0.83601248, 0.70936461, 0.02013868,\n",
              "        0.67400197, 0.31955342, 0.33310718, 0.24745502, 0.07874621],\n",
              "       [0.5542219 , 0.34580282, 0.31286222, 0.33810318, 0.6926444 ,\n",
              "        0.84133149, 0.41508953, 0.19632446, 0.25633326, 0.67787742],\n",
              "       [0.39912907, 0.01789508, 0.23586064, 0.55355297, 0.80602792,\n",
              "        0.98140297, 0.39034319, 0.38216469, 0.03829147, 0.54403924],\n",
              "       [0.6340847 , 0.32674815, 0.33493058, 0.25106352, 0.80119791,\n",
              "        0.63902668, 0.01460204, 0.07386377, 0.42298178, 0.19372247],\n",
              "       [0.05456145, 0.41743594, 0.01096955, 0.12778107, 0.95334344,\n",
              "        0.55425449, 0.35121548, 0.16742322, 0.53880675, 0.01858992],\n",
              "       [0.75464242, 0.28395646, 0.42767431, 0.69235177, 0.35159969,\n",
              "        0.4153964 , 0.2850877 , 0.107198  , 0.81954526, 0.26688579],\n",
              "       [0.51601025, 0.68776658, 0.97140648, 0.11880462, 0.37531272,\n",
              "        0.51014015, 0.56113151, 0.13759757, 0.1667093 , 0.14357743],\n",
              "       [0.72530402, 0.38908287, 0.19723995, 0.93020966, 0.8664706 ,\n",
              "        0.87372903, 0.13407285, 0.58667179, 0.08042512, 0.88774322],\n",
              "       [0.87162818, 0.45878279, 0.37528324, 0.85265915, 0.49336801,\n",
              "        0.33305892, 0.13089107, 0.41592471, 0.01700159, 0.04184712],\n",
              "       [0.08266833, 0.0458445 , 0.54135525, 0.50168827, 0.96657237,\n",
              "        0.67832997, 0.07433755, 0.36863592, 0.34667636, 0.53865136],\n",
              "       [0.73717658, 0.75965534, 0.38148593, 0.09465874, 0.60422972,\n",
              "        0.49128999, 0.53889298, 0.84992572, 0.13845906, 0.85900723],\n",
              "       [0.77073646, 0.1780372 , 0.24073733, 0.10981543, 0.82934635,\n",
              "        0.78541221, 0.0571065 , 0.58893788, 0.64547258, 0.10086829],\n",
              "       [0.11536367, 0.16641104, 0.20619153, 0.33911981, 0.1746492 ,\n",
              "        0.624417  , 0.81507881, 0.7339774 , 0.03596212, 0.51585097],\n",
              "       [0.78925831, 0.90888282, 0.23392638, 0.24508045, 0.56384714,\n",
              "        0.12433477, 0.25372001, 0.52143599, 0.68235997, 0.46311558],\n",
              "       [0.41317208, 0.11072768, 0.8371688 , 0.81302387, 0.40557213,\n",
              "        0.90580066, 0.938747  , 0.723203  , 0.11559271, 0.30807737],\n",
              "       [0.49711593, 0.6343692 , 0.6287217 , 0.2823071 , 0.40665853,\n",
              "        0.5992576 , 0.22987876, 0.78748167, 0.57337695, 0.24315791],\n",
              "       [0.24808993, 0.59997278, 0.91465606, 0.69616215, 0.28401697,\n",
              "        0.77334187, 0.13480472, 0.86852085, 0.68116393, 0.04616081],\n",
              "       [0.58273066, 0.2085167 , 0.45952636, 0.71778435, 0.37293458,\n",
              "        0.02297421, 0.66091307, 0.42043425, 0.33602888, 0.57232267],\n",
              "       [0.91156463, 0.92114658, 0.48843971, 0.40236996, 0.04056935,\n",
              "        0.56581922, 0.28497383, 0.80861859, 0.27317589, 0.66177624],\n",
              "       [0.83799667, 0.97629384, 0.20497795, 0.86625554, 0.86851146,\n",
              "        0.89881644, 0.34554918, 0.6184227 , 0.47013427, 0.41943151],\n",
              "       [0.76166685, 0.4113931 , 0.98364751, 0.4965891 , 0.2557657 ,\n",
              "        0.70782858, 0.27722218, 0.06736537, 0.75170833, 0.70981116],\n",
              "       [0.15563987, 0.21264407, 0.97033739, 0.07360824, 0.17420349,\n",
              "        0.74978768, 0.85954483, 0.16349351, 0.33665471, 0.15756188],\n",
              "       [0.79101197, 0.02712604, 0.89010688, 0.81362324, 0.73313194,\n",
              "        0.7137231 , 0.40285321, 0.05276286, 0.39304847, 0.43435986],\n",
              "       [0.75958566, 0.64370983, 0.30506798, 0.48379084, 0.79903197,\n",
              "        0.84184681, 0.24799629, 0.36505003, 0.77596064, 0.13613871],\n",
              "       [0.55180318, 0.07552081, 0.29213414, 0.3933322 , 0.68842819,\n",
              "        0.52703562, 0.28124971, 0.59717244, 0.06253778, 0.26648128],\n",
              "       [0.1624179 , 0.82977014, 0.16152915, 0.89513807, 0.68847581,\n",
              "        0.10178673, 0.39888302, 0.26325723, 0.73518592, 0.99242719],\n",
              "       [0.42149221, 0.23271925, 0.46534799, 0.02579396, 0.07264721,\n",
              "        0.15782309, 0.48634207, 0.33513793, 0.60408961, 0.13799856],\n",
              "       [0.96643731, 0.38613266, 0.50768085, 0.99125   , 0.80324347,\n",
              "        0.27081828, 0.01916408, 0.14929417, 0.10327648, 0.24817066],\n",
              "       [0.5822203 , 0.54288153, 0.54921485, 0.28324684, 0.66450961,\n",
              "        0.77953508, 0.54759229, 0.92083568, 0.78252494, 0.92228014],\n",
              "       [0.63250052, 0.4485903 , 0.39597115, 0.81575881, 0.98487479,\n",
              "        0.10785018, 0.16385082, 0.08949185, 0.32820146, 0.79455618],\n",
              "       [0.3673991 , 0.61431122, 0.00976881, 0.20353581, 0.11880492,\n",
              "        0.8328481 , 0.98390356, 0.34869889, 0.07384289, 0.35441369],\n",
              "       [0.20436284, 0.8399724 , 0.88385539, 0.93382534, 0.51395786,\n",
              "        0.80923237, 0.9828995 , 0.48117146, 0.99284956, 0.18676746],\n",
              "       [0.74496177, 0.90315738, 0.44398183, 0.96556062, 0.31314927,\n",
              "        0.11665915, 0.22045075, 0.66735936, 0.07115267, 0.00707401],\n",
              "       [0.09638147, 0.89874679, 0.57027365, 0.87033828, 0.02960861,\n",
              "        0.92973702, 0.70925715, 0.9596306 , 0.27410543, 0.6822093 ],\n",
              "       [0.74977234, 0.51356503, 0.64224431, 0.89781179, 0.28205539,\n",
              "        0.0676526 , 0.03634436, 0.12910482, 0.53430894, 0.66878486],\n",
              "       [0.25996098, 0.6701439 , 0.3093857 , 0.25343698, 0.24678645,\n",
              "        0.66846117, 0.64462474, 0.22016849, 0.13586455, 0.6243666 ],\n",
              "       [0.71469948, 0.26404502, 0.87472038, 0.08691552, 0.0678765 ,\n",
              "        0.64693273, 0.25281085, 0.91805528, 0.04409279, 0.94360402],\n",
              "       [0.23830218, 0.70937158, 0.83958419, 0.2886561 , 0.66136767,\n",
              "        0.57084151, 0.47854971, 0.88258883, 0.11830237, 0.79016451],\n",
              "       [0.53954492, 0.16360511, 0.14385707, 0.73248493, 0.28347454,\n",
              "        0.35303059, 0.6288625 , 0.11071244, 0.41979721, 0.47950673],\n",
              "       [0.42249355, 0.74123085, 0.3832644 , 0.33830904, 0.02044029,\n",
              "        0.83244427, 0.27850741, 0.47356782, 0.42521785, 0.3685971 ]])"
            ]
          },
          "metadata": {},
          "execution_count": 14
        }
      ]
    },
    {
      "cell_type": "code",
      "source": [
        "embeddings.shape"
      ],
      "metadata": {
        "colab": {
          "base_uri": "https://localhost:8080/"
        },
        "id": "ETpjEgQv_bbR",
        "outputId": "235ae036-1aff-48b1-ad5a-de07ebf74e6e"
      },
      "execution_count": 15,
      "outputs": [
        {
          "output_type": "execute_result",
          "data": {
            "text/plain": [
              "(43, 10)"
            ]
          },
          "metadata": {},
          "execution_count": 15
        }
      ]
    },
    {
      "cell_type": "markdown",
      "source": [
        "# **Linear Model**"
      ],
      "metadata": {
        "id": "1CSSHPAP_in2"
      }
    },
    {
      "cell_type": "code",
      "execution_count": 16,
      "metadata": {
        "id": "EAeaLX1Araaf"
      },
      "outputs": [],
      "source": [
        "def linear(m, theta):\n",
        "    w = theta\n",
        "    return m.dot(w)"
      ]
    },
    {
      "cell_type": "markdown",
      "source": [
        "# **Log softmax + NLLloss = Cross Entropy**"
      ],
      "metadata": {
        "id": "Wd2LlHoq_mFa"
      }
    },
    {
      "cell_type": "code",
      "execution_count": 17,
      "metadata": {
        "id": "0AUritd_raaf"
      },
      "outputs": [],
      "source": [
        "def log_softmax(x):\n",
        "    e_x = np.exp(x - np.max(x))\n",
        "    return np.log(e_x / e_x.sum())"
      ]
    },
    {
      "cell_type": "code",
      "execution_count": 18,
      "metadata": {
        "id": "kokolSR-raaf"
      },
      "outputs": [],
      "source": [
        "def NLLLoss(logs, targets):\n",
        "    out = logs[range(len(targets)), targets]\n",
        "    return -out.sum()/len(out)"
      ]
    },
    {
      "cell_type": "code",
      "execution_count": 19,
      "metadata": {
        "id": "t_GPlRluraaf"
      },
      "outputs": [],
      "source": [
        "def log_softmax_crossentropy_with_logits(logits,target):\n",
        "\n",
        "    out = np.zeros_like(logits)\n",
        "    out[np.arange(len(logits)),target] = 1\n",
        "\n",
        "    softmax = np.exp(logits) / np.exp(logits).sum(axis=-1,keepdims=True)\n",
        "\n",
        "    return (- out + softmax) / logits.shape[0]"
      ]
    },
    {
      "cell_type": "markdown",
      "source": [
        "# **Forward function**"
      ],
      "metadata": {
        "id": "NKkXK7ww_pUv"
      }
    },
    {
      "cell_type": "code",
      "execution_count": 20,
      "metadata": {
        "id": "Cu5jqC2eraaf"
      },
      "outputs": [],
      "source": [
        "def forward(context_idxs, theta):\n",
        "    m = embeddings[context_idxs].reshape(1, -1)\n",
        "    n = linear(m, theta)\n",
        "    o = log_softmax(n)\n",
        "\n",
        "    return m, n, o"
      ]
    },
    {
      "cell_type": "markdown",
      "source": [
        "# **Backward function**"
      ],
      "metadata": {
        "id": "j7h0UrDf_qdr"
      }
    },
    {
      "cell_type": "code",
      "execution_count": 21,
      "metadata": {
        "id": "3rrtIf2xraaf"
      },
      "outputs": [],
      "source": [
        "def backward(preds, theta, target_idxs):\n",
        "    m, n, o = preds\n",
        "\n",
        "    dlog = log_softmax_crossentropy_with_logits(n, target_idxs)\n",
        "    dw = m.T.dot(dlog)\n",
        "\n",
        "    return dw"
      ]
    },
    {
      "cell_type": "markdown",
      "source": [
        "# **Optimize function**"
      ],
      "metadata": {
        "id": "WlmyPrVk_vPQ"
      }
    },
    {
      "cell_type": "code",
      "execution_count": 22,
      "metadata": {
        "id": "rE7nZg3Hraag"
      },
      "outputs": [],
      "source": [
        "def optimize(theta, grad, lr=0.03):\n",
        "    theta -= grad * lr\n",
        "    return theta"
      ]
    },
    {
      "cell_type": "markdown",
      "metadata": {
        "id": "uWQfLK_braag"
      },
      "source": [
        "## **c. Train model**"
      ]
    },
    {
      "cell_type": "code",
      "execution_count": 23,
      "metadata": {
        "id": "-JPndg0Xraag"
      },
      "outputs": [],
      "source": [
        "theta = np.random.uniform(-1, 1, (2 * context_size * embed_dim, vocab_size))"
      ]
    },
    {
      "cell_type": "code",
      "source": [
        "theta"
      ],
      "metadata": {
        "colab": {
          "base_uri": "https://localhost:8080/"
        },
        "id": "IONVHUP2_zBj",
        "outputId": "8319ed2e-ba7c-4eb6-c784-68ea81bcc495"
      },
      "execution_count": 24,
      "outputs": [
        {
          "output_type": "execute_result",
          "data": {
            "text/plain": [
              "array([[ 0.97966554, -0.29222202, -0.09204216, ..., -0.70347986,\n",
              "         0.03088237, -0.65116746],\n",
              "       [ 0.38820823,  0.51548504, -0.08072998, ..., -0.93771629,\n",
              "         0.31256101, -0.89177491],\n",
              "       [ 0.11025673,  0.46589161,  0.94800791, ..., -0.39895031,\n",
              "        -0.55385165,  0.84688889],\n",
              "       ...,\n",
              "       [ 0.54004887, -0.13220488, -0.94234266, ...,  0.96995085,\n",
              "         0.63153432, -0.43272914],\n",
              "       [ 0.08948064, -0.83723163, -0.03691928, ...,  0.28225585,\n",
              "        -0.67245999, -0.46156357],\n",
              "       [-0.99575069,  0.03792637, -0.90764763, ...,  0.91340732,\n",
              "         0.71219387,  0.50133173]])"
            ]
          },
          "metadata": {},
          "execution_count": 24
        }
      ]
    },
    {
      "cell_type": "code",
      "source": [
        "theta.shape"
      ],
      "metadata": {
        "colab": {
          "base_uri": "https://localhost:8080/"
        },
        "id": "Yj4kD1cG_0Yv",
        "outputId": "3f5b46bb-e3ee-4884-a45e-47844daabc52"
      },
      "execution_count": 25,
      "outputs": [
        {
          "output_type": "execute_result",
          "data": {
            "text/plain": [
              "(40, 43)"
            ]
          },
          "metadata": {},
          "execution_count": 25
        }
      ]
    },
    {
      "cell_type": "code",
      "execution_count": 26,
      "metadata": {
        "id": "1lI9fsfWraag"
      },
      "outputs": [],
      "source": [
        "epoch_losses = {}\n",
        "\n",
        "for epoch in range(80):\n",
        "\n",
        "    losses =  []\n",
        "\n",
        "    for context, target in data:\n",
        "        context_idxs = np.array([word_to_ix[w] for w in context])\n",
        "        preds = forward(context_idxs, theta)\n",
        "\n",
        "        target_idxs = np.array([word_to_ix[target]])\n",
        "        loss = NLLLoss(preds[-1], target_idxs)\n",
        "\n",
        "        losses.append(loss)\n",
        "\n",
        "        grad = backward(preds, theta, target_idxs)\n",
        "        theta = optimize(theta, grad, lr=0.03)\n",
        "\n",
        "\n",
        "    epoch_losses[epoch] = losses"
      ]
    },
    {
      "cell_type": "code",
      "source": [
        "losses"
      ],
      "metadata": {
        "colab": {
          "base_uri": "https://localhost:8080/"
        },
        "id": "12bF8oOI_3nl",
        "outputId": "a9e5e6d8-4cb4-46dc-964d-ea81f478d981"
      },
      "execution_count": 27,
      "outputs": [
        {
          "output_type": "execute_result",
          "data": {
            "text/plain": [
              "[0.35903553096545465,\n",
              " 0.2514874959772144,\n",
              " 0.3756793715146575,\n",
              " 0.3714849083003956,\n",
              " 0.43995272980075895,\n",
              " 0.35284417068715745,\n",
              " 0.5706660053005455,\n",
              " 0.33528375417537665,\n",
              " 0.5113429891398965,\n",
              " 0.6368417517818555,\n",
              " 0.32411276309181974,\n",
              " 0.33842508489106327,\n",
              " 0.8496321789021739,\n",
              " 0.7356294219357835,\n",
              " 0.5013936357162095,\n",
              " 0.5621497894142312,\n",
              " 0.5929403378241377,\n",
              " 0.5747395461749306,\n",
              " 0.4908008522551771,\n",
              " 0.8683584689595684,\n",
              " 0.3262964178746263,\n",
              " 0.5820840129874804,\n",
              " 0.5415501017194916,\n",
              " 0.5174482797989515,\n",
              " 0.6481965689380453,\n",
              " 0.4381021773835066,\n",
              " 0.416389412528247,\n",
              " 0.6807740533239046,\n",
              " 0.6251250339647575,\n",
              " 0.2975761650764556,\n",
              " 0.6487732009591571,\n",
              " 0.7083574007292294,\n",
              " 0.46845572563940313,\n",
              " 0.37979307120596256,\n",
              " 0.44579655446490724,\n",
              " 0.34899403878724106,\n",
              " 0.32316430208457,\n",
              " 0.410486296109986,\n",
              " 0.29043440503366175,\n",
              " 0.40508648674339665,\n",
              " 0.6284044162765758,\n",
              " 0.4404426167593725,\n",
              " 0.3842091798294967,\n",
              " 0.49156522609481984,\n",
              " 0.3327136366429936,\n",
              " 0.4352114455299992,\n",
              " 0.4195048909706539,\n",
              " 0.32831077794123564,\n",
              " 0.18864605062448095,\n",
              " 0.7206884123473947,\n",
              " 0.5771205597024877,\n",
              " 0.554298777028673,\n",
              " 0.44641312971644914,\n",
              " 0.4397988173341868]"
            ]
          },
          "metadata": {},
          "execution_count": 27
        }
      ]
    },
    {
      "cell_type": "markdown",
      "metadata": {
        "id": "EDdcTHF0raag"
      },
      "source": [
        "## **d. Output**"
      ]
    },
    {
      "cell_type": "code",
      "execution_count": 28,
      "metadata": {
        "colab": {
          "base_uri": "https://localhost:8080/",
          "height": 519
        },
        "id": "odMSPYCcraag",
        "outputId": "19402132-297d-413a-b839-0b555f20ded5"
      },
      "outputs": [
        {
          "output_type": "execute_result",
          "data": {
            "text/plain": [
              "Text(0, 0.5, 'Losses')"
            ]
          },
          "metadata": {},
          "execution_count": 28
        },
        {
          "output_type": "display_data",
          "data": {
            "text/plain": [
              "<Figure size 640x480 with 1 Axes>"
            ],
            "image/png": "[encoded data removed]"
          },
          "metadata": {}
        }
      ],
      "source": [
        "ix = np.arange(0,80)\n",
        "\n",
        "fig = plt.figure()\n",
        "fig.suptitle('Epoch/Losses', fontsize=20)\n",
        "plt.plot(ix,[epoch_losses[i][0] for i in ix])\n",
        "plt.xlabel('Epochs', fontsize=12)\n",
        "plt.ylabel('Losses', fontsize=12)"
      ]
    },
    {
      "cell_type": "code",
      "execution_count": 29,
      "metadata": {
        "id": "0Hk06pgGraag"
      },
      "outputs": [],
      "source": [
        "def predict(words):\n",
        "    context_idxs = np.array([word_to_ix[w] for w in words])\n",
        "    preds = forward(context_idxs, theta)\n",
        "    word = ix_to_word[np.argmax(preds[-1])]\n",
        "\n",
        "    return word"
      ]
    },
    {
      "cell_type": "code",
      "execution_count": 30,
      "metadata": {
        "colab": {
          "base_uri": "https://localhost:8080/",
          "height": 37
        },
        "id": "CyJpIc2-raah",
        "outputId": "fe3b3abd-a6bf-4fa3-c33f-1f3b20e7288a"
      },
      "outputs": [
        {
          "output_type": "execute_result",
          "data": {
            "text/plain": [
              "'about'"
            ],
            "application/vnd.google.colaboratory.intrinsic+json": {
              "type": "string"
            }
          },
          "metadata": {},
          "execution_count": 30
        }
      ],
      "source": [
        "# (['we', 'are', 'to', 'study'], 'about')\n",
        "predict(['we', 'are', 'to', 'study'])"
      ]
    },
    {
      "cell_type": "code",
      "execution_count": 31,
      "metadata": {
        "id": "9qPrlhXQraah"
      },
      "outputs": [],
      "source": [
        "def accuracy():\n",
        "    wrong = 0\n",
        "\n",
        "    for context, target in data:\n",
        "        if(predict(context) != target):\n",
        "            wrong += 1\n",
        "\n",
        "    return (1 - (wrong / len(data)))"
      ]
    },
    {
      "cell_type": "code",
      "execution_count": 32,
      "metadata": {
        "colab": {
          "base_uri": "https://localhost:8080/"
        },
        "id": "VL0t_7LMraah",
        "outputId": "c28cc473-8167-4621-be3d-8daec6717d6b"
      },
      "outputs": [
        {
          "output_type": "execute_result",
          "data": {
            "text/plain": [
              "1.0"
            ]
          },
          "metadata": {},
          "execution_count": 32
        }
      ],
      "source": [
        "accuracy()"
      ]
    },
    {
      "cell_type": "code",
      "execution_count": 33,
      "metadata": {
        "colab": {
          "base_uri": "https://localhost:8080/",
          "height": 37
        },
        "id": "_BISVkjKraah",
        "outputId": "160805a5-a4bd-4cef-fd22-a01a7fa5fca2"
      },
      "outputs": [
        {
          "output_type": "execute_result",
          "data": {
            "text/plain": [
              "'abstract'"
            ],
            "application/vnd.google.colaboratory.intrinsic+json": {
              "type": "string"
            }
          },
          "metadata": {},
          "execution_count": 33
        }
      ],
      "source": [
        "predict(['processes', 'manipulate', 'things', 'study'])"
      ]
    }
  ],
  "metadata": {
    "kernelspec": {
      "display_name": "Python 3 (ipykernel)",
      "language": "python",
      "name": "python3"
    },
    "language_info": {
      "codemirror_mode": {
        "name": "ipython",
        "version": 3
      },
      "file_extension": ".py",
      "mimetype": "text/x-python",
      "name": "python",
      "nbconvert_exporter": "python",
      "pygments_lexer": "ipython3",
      "version": "3.7.13"
    },
    "colab": {
      "provenance": []
    }
  },
  "nbformat": 4,
  "nbformat_minor": 0
}